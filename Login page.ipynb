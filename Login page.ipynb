{
 "cells": [
  {
   "cell_type": "code",
   "execution_count": 1,
   "id": "859c9fb4",
   "metadata": {},
   "outputs": [],
   "source": [
    "from tkinter import *\n",
    "from tkinter import messagebox\n",
    "class Login:\n",
    "    def __init__(self,root):\n",
    "        self.root=root\n",
    "        self.root.title=(\"LOGIN SYSTEM\")\n",
    "        self.root.geometry(\"1199x600+100+50\")\n",
    "        \n",
    "        #login frame\n",
    "        Frame_login=Frame(self.root,bg=\"white\")\n",
    "        Frame_login.place(x=330,y=150,width=500,height=400)\n",
    "        \n",
    "    \n",
    "        #TITLE and subtitle\n",
    "        title=Label(Frame_login,text=\"LOGIN HERE\",font=(\"Inpact\",35,\"bold\"),fg=\"#6162FF\",bg=\"White\").place(x=90,y=30)\n",
    "        subtitle=Label(Frame_login,text=\"Members Login area\",font=(\"Goudy old style\",15,\"bold\"),fg=\"#1d1d1d\",bg=\"White\").place(x=90,y=100)\n",
    "        \n",
    "        #user name\n",
    "        lbl_User=Label(Frame_login,text=\"User name\",font=(\"Goudy old style\",15,\"bold\"),fg=\"grey\",bg=\"White\").place(x=90,y=140)\n",
    "        self.Username=Entry(Frame_login,font=(\"Goudy old style\",15),bg=\"#E7E6E6\")\n",
    "        self.Username.place(x=90,y=170,width=320,height=35)\n",
    "        \n",
    "        #password\n",
    "        lbl_Password=Label(Frame_login,text=\"Password\",font=(\"Goudy old style\",15,\"bold\"),fg=\"grey\",bg=\"White\").place(x=90,y=210)\n",
    "        self.Password=Entry(Frame_login,font=(\"Goudy old style\",15),bg=\"#E7E6E6\")\n",
    "        self.Password.place(x=90,y=240,width=320,height=35)\n",
    "        \n",
    "        #Button\n",
    "        forget=Button(Frame_login,text=\"Forget Password\",bd=0,cursor=\"hand2\",font=(\"Goudy old style\",12),fg=\"#6162FF\",bg=\"White\").place(x=90,y=280)\n",
    "        submit=Button(Frame_login,command=self.check_function,cursor=\"hand2\",text=\"Login?\",font=(\"Goudy old style\",15),fg=\"#6162FF\",bg=\"White\").place(x=90,y=320,width=180,height=40)\n",
    "        \n",
    "    def check_function(self):\n",
    "        if self.username.get()==\"\" or self.password.get()==\"\":\n",
    "            messagebox.showerror(\"Error\",\"All fields are required\",parent=self.root)\n",
    "        elif self.username.get()!=\"kotha\" or self.password.get()!=\"9059328420\":\n",
    "            messagebox.showerror(\"Error\",\"Incorrect user name or password\",parent=self.root)\n",
    "        else:\n",
    "            messagebox.showinfo(\"Welcome\",f\"Welcome {self.username.get()}\")\n",
    "                \n",
    "        \n",
    "\n",
    "root=Tk()\n",
    "obj=Login(root)\n",
    "root.mainloop()"
   ]
  },
  {
   "cell_type": "code",
   "execution_count": null,
   "id": "cac35c61",
   "metadata": {},
   "outputs": [],
   "source": []
  },
  {
   "cell_type": "code",
   "execution_count": null,
   "id": "37565ea7",
   "metadata": {},
   "outputs": [],
   "source": []
  }
 ],
 "metadata": {
  "kernelspec": {
   "display_name": "Python 3 (ipykernel)",
   "language": "python",
   "name": "python3"
  },
  "language_info": {
   "codemirror_mode": {
    "name": "ipython",
    "version": 3
   },
   "file_extension": ".py",
   "mimetype": "text/x-python",
   "name": "python",
   "nbconvert_exporter": "python",
   "pygments_lexer": "ipython3",
   "version": "3.9.7"
  }
 },
 "nbformat": 4,
 "nbformat_minor": 5
}
